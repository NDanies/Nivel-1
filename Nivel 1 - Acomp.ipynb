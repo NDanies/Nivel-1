{
 "cells": [
  {
   "cell_type": "markdown",
   "metadata": {},
   "source": [
    "# Guía para nivel 1\n"
   ]
  },
  {
   "cell_type": "markdown",
   "metadata": {},
   "source": [
    "## En primer lugar un entendimiento básico de las variables"
   ]
  },
  {
   "cell_type": "markdown",
   "metadata": {},
   "source": [
    "### Tipos de variables"
   ]
  },
  {
   "cell_type": "markdown",
   "metadata": {},
   "source": [
    "Para el primer nivel existen tres tipos de estructuras fundamentales.\n",
    "\n",
    "int -> Números enteros\n",
    "\n",
    "float -> Números con decimales\n",
    "\n",
    "str -> 'String'. Se refiere a lineas de texto y equivalentes."
   ]
  },
  {
   "cell_type": "code",
   "execution_count": 1,
   "metadata": {},
   "outputs": [
    {
     "data": {
      "text/plain": [
       "int"
      ]
     },
     "execution_count": 1,
     "metadata": {},
     "output_type": "execute_result"
    }
   ],
   "source": [
    "x=1\n",
    "type(x)"
   ]
  },
  {
   "cell_type": "code",
   "execution_count": 9,
   "metadata": {},
   "outputs": [
    {
     "data": {
      "text/plain": [
       "float"
      ]
     },
     "execution_count": 9,
     "metadata": {},
     "output_type": "execute_result"
    }
   ],
   "source": [
    "x=1.1\n",
    "type(x)"
   ]
  },
  {
   "cell_type": "code",
   "execution_count": 11,
   "metadata": {},
   "outputs": [
    {
     "data": {
      "text/plain": [
       "str"
      ]
     },
     "execution_count": 11,
     "metadata": {},
     "output_type": "execute_result"
    }
   ],
   "source": [
    "x='Hello World'\n",
    "type(x)"
   ]
  },
  {
   "cell_type": "markdown",
   "metadata": {},
   "source": [
    "Si divides numeros (así la respuesta sea un int), los numeros se vuelven floats. No es así con la multiplicación. "
   ]
  },
  {
   "cell_type": "code",
   "execution_count": 21,
   "metadata": {},
   "outputs": [
    {
     "data": {
      "text/plain": [
       "float"
      ]
     },
     "execution_count": 21,
     "metadata": {},
     "output_type": "execute_result"
    }
   ],
   "source": [
    "y=20\n",
    "x=4\n",
    "type(y/x)"
   ]
  },
  {
   "cell_type": "markdown",
   "metadata": {},
   "source": [
    "Si multiplicas strings, estos también se pueden multiplicar (es una razón frecuente de errores y lo deben tener muy en cuenta) "
   ]
  },
  {
   "cell_type": "code",
   "execution_count": 19,
   "metadata": {},
   "outputs": [
    {
     "name": "stdout",
     "output_type": "stream",
     "text": [
      "HolaHolaHolaHola\n"
     ]
    }
   ],
   "source": [
    "x= 'Hola'*4\n",
    "print(x)"
   ]
  },
  {
   "cell_type": "markdown",
   "metadata": {},
   "source": [
    "### Funciones"
   ]
  },
  {
   "cell_type": "markdown",
   "metadata": {},
   "source": [
    "Las funciones se declaran con 'def', seguido por el nombre de la función, los parametros, y el final de la función, suelen estar acompañados por un return (lo que devuelve la función). *NO SIEMPRE TIENEN QUE DEVOLVER ALGO* pero en la gran mayoría de casos lo hacen. "
   ]
  },
  {
   "cell_type": "code",
   "execution_count": 28,
   "metadata": {},
   "outputs": [
    {
     "name": "stdout",
     "output_type": "stream",
     "text": [
      "Esto va a ser lo que devolveremos\n"
     ]
    }
   ],
   "source": [
    "def nombre_de_la_funcion (parametro1:int,parametro2:str)->str:\n",
    "    respuesta='Esto va a ser lo que devolveremos'\n",
    "    return respuesta\n",
    "x= nombre_de_la_funcion(33,'hola')\n",
    "print(x)"
   ]
  },
  {
   "cell_type": "markdown",
   "metadata": {},
   "source": [
    "Realmente todo lo pueden nombrar como quieran. No es lo ideal, pero es importante que lo comprendan para que no se confundan en el futuro. También, dentro de las funciones ustedes pueden utilizar los parametros. De hecho, no hay razón para incluir parametros si no los van a utilizar. En las tareas de senecode, en los laboratorios y en los parciales, NUNCA van a inutilizar algún parametro en un ejercicio práctico, y es muy importante que tengan eso en cuenta. "
   ]
  },
  {
   "cell_type": "code",
   "execution_count": 29,
   "metadata": {},
   "outputs": [
    {
     "name": "stdout",
     "output_type": "stream",
     "text": [
      "Hola\n"
     ]
    }
   ],
   "source": [
    "def estoPuedeTenerCualquierNombre (estoTambien:str)->str:\n",
    "    YoPuedoUsarLosParametrosDentroDeLaFuncion = estoTambien\n",
    "    return YoPuedoUsarLosParametrosDentroDeLaFuncion\n",
    "\n",
    "x= estoPuedeTenerCualquierNombre('Hola')\n",
    "print(x)"
   ]
  },
  {
   "cell_type": "markdown",
   "metadata": {},
   "source": [
    "Ahora se harán algunos ejemplos básicos de las funciones. "
   ]
  },
  {
   "cell_type": "code",
   "execution_count": 30,
   "metadata": {},
   "outputs": [
    {
     "name": "stdout",
     "output_type": "stream",
     "text": [
      "10.0\n"
     ]
    }
   ],
   "source": [
    "def sumar(numero1:float,numero2:float)->float:\n",
    "    suma = numero1+numero2\n",
    "    return suma\n",
    "print(sumar(3.2,6.8))"
   ]
  },
  {
   "cell_type": "code",
   "execution_count": 31,
   "metadata": {},
   "outputs": [
    {
     "name": "stdout",
     "output_type": "stream",
     "text": [
      "jajajajajajaja\n"
     ]
    }
   ],
   "source": [
    "def risa(repeticiones:int)->str:\n",
    "    resp='ja'*repeticiones\n",
    "    return resp\n",
    "print(risa(7))"
   ]
  },
  {
   "cell_type": "markdown",
   "metadata": {},
   "source": [
    "### Operadores lógicos"
   ]
  },
  {
   "cell_type": "markdown",
   "metadata": {},
   "source": [
    "Los operadores lógicos son maneras de expresar operaciones mátematicas con base al lenguaje de python. Realmente los que deben dominar y con los que les harán los parciales son: la división entera, el módulo y la potenciación."
   ]
  },
  {
   "cell_type": "markdown",
   "metadata": {},
   "source": [
    "#### División entera"
   ]
  },
  {
   "cell_type": "code",
   "execution_count": 34,
   "metadata": {},
   "outputs": [
    {
     "name": "stdout",
     "output_type": "stream",
     "text": [
      "3\n",
      "3\n",
      "2\n"
     ]
    }
   ],
   "source": [
    "x=12//4\n",
    "y=13//4\n",
    "z=11//4\n",
    "print(x)\n",
    "print(y)\n",
    "print(z)"
   ]
  },
  {
   "cell_type": "markdown",
   "metadata": {},
   "source": [
    "#### Módulo (sacar el residuo)"
   ]
  },
  {
   "cell_type": "code",
   "execution_count": 35,
   "metadata": {},
   "outputs": [
    {
     "name": "stdout",
     "output_type": "stream",
     "text": [
      "0\n",
      "1\n",
      "3\n"
     ]
    }
   ],
   "source": [
    "x=12%4\n",
    "y=13%4\n",
    "z=11%4\n",
    "print(x)\n",
    "print(y)\n",
    "print(z)"
   ]
  },
  {
   "cell_type": "markdown",
   "metadata": {},
   "source": [
    "#### Potenciación"
   ]
  },
  {
   "cell_type": "code",
   "execution_count": null,
   "metadata": {},
   "outputs": [],
   "source": [
    "x=2**3\n",
    "y=3**3\n",
    "z=4**2\n",
    "print(x)\n",
    "print(y)\n",
    "print(z)"
   ]
  },
  {
   "cell_type": "markdown",
   "metadata": {},
   "source": [
    "### Interfáz"
   ]
  },
  {
   "cell_type": "markdown",
   "metadata": {},
   "source": [
    "Lo realmente más importante de la interfaz es saber llamar a otros módulos. Para llamarlos toca emplear 'import', seguido por el nombre del módulo a llamar, y finalizando con la manera como quieres referirte al módulo (opcional). \n",
    "\n",
    "Acá está un ejemplo con el módulo de python 'math', el cual existen las *FUNCIONES* 'pi', 'sin','factorial', entre muchas otras. (Este paquete no se si está incluído en todos los computadores, pero aún así se muestra bien como llamar funciones de otros módulos)."
   ]
  },
  {
   "cell_type": "code",
   "execution_count": 41,
   "metadata": {},
   "outputs": [
    {
     "name": "stdout",
     "output_type": "stream",
     "text": [
      "3.141592653589793\n",
      "0.8509035245341184\n",
      "720\n"
     ]
    }
   ],
   "source": [
    "import math as mate\n",
    "x= mate.pi\n",
    "y = mate.sin(45)\n",
    "z=mate.factorial(6)\n",
    "print(x)\n",
    "print(y)\n",
    "print(z)"
   ]
  },
  {
   "cell_type": "markdown",
   "metadata": {},
   "source": [
    "Además de eso, lo otro importante de la interfaz es saber imprimir datos. Todo esto se ha hecho imprimiento datos, así que supondré que ya se encuentran familiarizados con esto. "
   ]
  }
 ],
 "metadata": {
  "kernelspec": {
   "display_name": "Python 3",
   "language": "python",
   "name": "python3"
  },
  "language_info": {
   "codemirror_mode": {
    "name": "ipython",
    "version": 3
   },
   "file_extension": ".py",
   "mimetype": "text/x-python",
   "name": "python",
   "nbconvert_exporter": "python",
   "pygments_lexer": "ipython3",
   "version": "3.7.4"
  }
 },
 "nbformat": 4,
 "nbformat_minor": 2
}
